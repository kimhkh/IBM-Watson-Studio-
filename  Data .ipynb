{
    "nbformat_minor": 1, 
    "cells": [
        {
            "source": "Factors that will influence our decission are:\n\nnumber of existing restaurants in the neighborhood (any type of restaurant)\nnumber of and distance to Italian restaurants in the neighborhood, if any\ndistance of neighborhood from city center\nWe decided to use regularly spaced grid of locations, centered around city center, to define our neighborhoods.\n\nFollowing data sources will be needed to extract/generate the required information:\n\ncenters of candidate areas will be generated algorithmically and approximate addresses of centers of those areas will be obtained using Google Maps API reverse geocoding\nnumber of restaurants and their type and location in every neighborhood will be obtained using Foursquare API\ncoordinate of Berlin center will be obtained using Google Maps API geocoding of well known Futian location", 
            "cell_type": "markdown", 
            "metadata": {
                "collapsed": true
            }
        }
    ], 
    "metadata": {
        "kernelspec": {
            "display_name": "Python 3.5", 
            "name": "python3", 
            "language": "python"
        }, 
        "language_info": {
            "mimetype": "text/x-python", 
            "nbconvert_exporter": "python", 
            "version": "3.5.5", 
            "name": "python", 
            "file_extension": ".py", 
            "pygments_lexer": "ipython3", 
            "codemirror_mode": {
                "version": 3, 
                "name": "ipython"
            }
        }
    }, 
    "nbformat": 4
}